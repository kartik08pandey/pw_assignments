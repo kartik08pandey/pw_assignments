{
 "cells": [
  {
   "cell_type": "code",
   "execution_count": 4,
   "id": "262de0ee-af89-48d4-b82f-eaedfaeae47c",
   "metadata": {},
   "outputs": [
    {
     "name": "stdout",
     "output_type": "stream",
     "text": [
      "Hello Good Morning\n"
     ]
    }
   ],
   "source": [
    "# Q1. Explain Class and Object with respect to Object-Oriented Programming. Give a suitable example.\n",
    "\n",
    "# Ans- Class is a detailed description, the definition, and the template of what an object will be. \n",
    "#      But it is not the object itself. Also, what we call, a class is the building block that leads \n",
    "#      to Object-Oriented Programming. It is a user-defined data type, that holds its own data members\n",
    "#      and member functions, which can be accessed and used by creating an instance of that class.\n",
    "#      \n",
    "#      Object is an instance of a class. All data members and member functions of the class can be \n",
    "#      accessed with the help of objects.\n",
    "\n",
    "#      Example-:\n",
    "class greeting: \n",
    "# Defining class\n",
    "    def greet(self):\n",
    "        print(\"Hello Good Morning\")\n",
    "# making instance of a class(object)\n",
    "g= greeting()\n",
    "g.greet() "
   ]
  },
  {
   "cell_type": "code",
   "execution_count": 5,
   "id": "8259c9f8-060d-413c-82a6-688ba96508c8",
   "metadata": {},
   "outputs": [],
   "source": [
    "# Q2. Name the four pillars of OOPs.\n",
    "\n",
    "# Ans-  Four pillar of OPPs are-:\n",
    "#       Encapsulation\n",
    "#       Abstraction\n",
    "#       Inheritance\n",
    "#       Polymorphism"
   ]
  },
  {
   "cell_type": "code",
   "execution_count": 8,
   "id": "97dd2a43-eb7d-4d96-9fe9-956319fb6503",
   "metadata": {},
   "outputs": [
    {
     "name": "stdout",
     "output_type": "stream",
     "text": [
      "Hello Good Morning\n"
     ]
    }
   ],
   "source": [
    "# Q3. Explain why the __init__() function is used. Give a suitable example.\n",
    "\n",
    "# Ans- __init__() is the default constructor in python. Constructors are used\n",
    "        # to initialise the data members of the class when an object of class is created.\n",
    "        # like methods, a constructor also contains a collection of statements that are \n",
    "        # executed as the time of object creation. It is run as soon as object of a class\n",
    "        # is instantiated. The method is used to do any initialization you want to do with\n",
    "        # your object.\n",
    "    \n",
    "class greeting: \n",
    "# defining init method \n",
    "    def __init__(self):\n",
    "        print(\"Hello Good Morning\")\n",
    "# making instance of a class(object)\n",
    "g= greeting()"
   ]
  },
  {
   "cell_type": "code",
   "execution_count": 9,
   "id": "c832e641-c4aa-4cb0-ae23-326f2a673143",
   "metadata": {},
   "outputs": [],
   "source": [
    "# Q4. Why self is used in OOPs?\n",
    "\n",
    "# Ans - self represents the instance of the class. By using the “self”  we can\n",
    "    # access the attributes and methods of the class in python. It binds the attributes \n",
    "    # with the given arguments."
   ]
  },
  {
   "cell_type": "code",
   "execution_count": null,
   "id": "de5b577a-f97e-4d9d-a407-2ca9f3e1465f",
   "metadata": {},
   "outputs": [],
   "source": [
    "# Q5. What is inheritance? Give an example for each type of inheritance.\n",
    "# Ans- It is a mechanism that allows you to create a hierarchy of classes that \n",
    "    # share a set of properties and methods by deriving a class from another \n",
    "    # class. Inheritance is the capability of one class to derive or inherit \n",
    "    # the properties from another class. \n",
    "\n",
    "#   Types of Inheritance:\n",
    "\n",
    "#   Single Inheritance:\n",
    "class parent:  \n",
    "    def __init__(self):\n",
    "        print(\"Parent class\")\n",
    "        \n",
    "class child(parent):\n",
    "    def __init__(self):\n",
    "        print(\"Child Class\")\n",
    "        \n",
    "        \n",
    "        \n",
    "#   Multiple Inheritance:\n",
    "class parent1:  \n",
    "    def __init__(self):\n",
    "        print(\"Parent class1\")\n",
    "\n",
    "class parent2:  \n",
    "    def __init__(self):\n",
    "        print(\"Parent class2\")\n",
    "        \n",
    "class child(parent1, parent2):\n",
    "    def __init__(self):\n",
    "        print(\"Child Class\")\n",
    "\n",
    "        \n",
    "\n",
    "#   Multilevel Inheritance\n",
    "class parent1:  \n",
    "    def __init__(self):\n",
    "        print(\"Parent class1\")\n",
    "\n",
    "class parent2(parent1):  \n",
    "    def __init__(self):\n",
    "        print(\"Parent class2\")\n",
    "        \n",
    "class child(parent2):\n",
    "    def __init__(self):\n",
    "        print(\"Child Class\")\n",
    "        \n",
    "\n",
    "        \n",
    "# Hierarchical Inheritance\n",
    "class parent1:  \n",
    "    def __init__(self):\n",
    "        print(\"Parent class1\")\n",
    "\n",
    "class child1(parent1):  \n",
    "    def __init__(self):\n",
    "        print(\"Child Class1\")\n",
    "        \n",
    "class child2(parent1):\n",
    "    def __init__(self):\n",
    "        print(\"Child Class2\")\n",
    "\n",
    "class child3(parent1):\n",
    "    def __init__(self):\n",
    "        print(\"Child Class3\")"
   ]
  }
 ],
 "metadata": {
  "kernelspec": {
   "display_name": "Python 3 (ipykernel)",
   "language": "python",
   "name": "python3"
  },
  "language_info": {
   "codemirror_mode": {
    "name": "ipython",
    "version": 3
   },
   "file_extension": ".py",
   "mimetype": "text/x-python",
   "name": "python",
   "nbconvert_exporter": "python",
   "pygments_lexer": "ipython3",
   "version": "3.10.8"
  }
 },
 "nbformat": 4,
 "nbformat_minor": 5
}
