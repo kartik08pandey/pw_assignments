{
 "cells": [
  {
   "cell_type": "code",
   "execution_count": 2,
   "id": "c1c90cbf-04b3-42c4-aa9d-075fc25116db",
   "metadata": {},
   "outputs": [
    {
     "name": "stdout",
     "output_type": "stream",
     "text": [
      "[1, 3, 5, 7, 9, 11, 13, 15, 17, 19, 21, 23, 25]\n"
     ]
    }
   ],
   "source": [
    "# Q1. Which keyword is used to create a function? Create a function to return a list of odd numbers in the \n",
    "# range of 1 to 25.\n",
    "\n",
    "# Ans - \"def\" keyword is used to create a function in python. \n",
    "def odd_numbers():\n",
    "    l=[]\n",
    "    for i in range(1,26):\n",
    "        if(i%2!=0):\n",
    "            l.append(i)\n",
    "    print(l)\n",
    "odd_numbers()"
   ]
  },
  {
   "cell_type": "code",
   "execution_count": 3,
   "id": "ac17d29f-6480-41b9-a7ef-94012897f18f",
   "metadata": {},
   "outputs": [
    {
     "name": "stdout",
     "output_type": "stream",
     "text": [
      "This is the example of *args\n",
      "10\n",
      "This is the example of **kwargs\n",
      "The favourite fruit is-: apple\n"
     ]
    }
   ],
   "source": [
    "# Q2. Why *args and **kwargs is used in some functions? Create a function each for *args and **kwargs \n",
    "# to demonstrate their use.\n",
    "\n",
    "# Ans - *args- it is used in python when the number of arguments which are passed in a function is not defined.\n",
    "#              this way the function will recieve a tuple of arguments and can be accesed accordingly.\n",
    "\n",
    "# Exmaple-:\n",
    "\n",
    "def add(*nums):\n",
    "    print(\"This is the example of *args\")\n",
    "    add=0\n",
    "    for i in nums:\n",
    "        add=add+i\n",
    "    print(add)\n",
    "add(1,2,3,4)\n",
    "\n",
    "#       **kwargs- it is used in python when the number of keyword arguements which are passed in the functioon are not defined.\n",
    "#               this way the function will recieve a dictionary of arguments and can be accesed accordingly.\n",
    "\n",
    "# Example-:\n",
    "\n",
    "def fruits(**names):\n",
    "    print(\"This is the example of **kwargs\")\n",
    "    print(\"The favourite fruit is-: \" + names[\"b\"])\n",
    "fruits(a=\"banana\", b=\"apple\", c=\"kiwi\")"
   ]
  },
  {
   "cell_type": "code",
   "execution_count": 9,
   "id": "1afdfba8-2fe3-49d4-a530-cc07747fa1d0",
   "metadata": {},
   "outputs": [
    {
     "data": {
      "text/plain": [
       "2"
      ]
     },
     "execution_count": 9,
     "metadata": {},
     "output_type": "execute_result"
    }
   ],
   "source": [
    "# Q3.  What is an iterator in python? Name the method used to initialise the iterator object and the method \n",
    "# used for iteration. Use these methods to print the first five elements of the given list [2, 4, 6, 8, 10, 12, 14, \n",
    "# 16, 18, 20].\n",
    "\n",
    "# Ans - Iterator- It is an object in python which can be itrate with the help of any loop or method.\n",
    "#                 Also if any object is iterable it can be converted into iterator with the help of some methods.\n",
    "#                 some common example of iterables are string, list, tuples, dicts, sets.\n",
    "#                  \n",
    "#                 The method which is used to initialise the iterotor object is iter().\n",
    "#                 The method whcih is used for iteration in the iterator is next().\n",
    "\n",
    "l= [2, 4, 6, 8, 10, 12, 14, 16, 18, 20]\n",
    "l1=iter(l)\n",
    "next(l1)"
   ]
  },
  {
   "cell_type": "code",
   "execution_count": 5,
   "id": "79c06906-60be-4dcf-a809-8ee903767bbd",
   "metadata": {},
   "outputs": [
    {
     "data": {
      "text/plain": [
       "4"
      ]
     },
     "execution_count": 5,
     "metadata": {},
     "output_type": "execute_result"
    }
   ],
   "source": [
    "next(l1)"
   ]
  },
  {
   "cell_type": "code",
   "execution_count": 6,
   "id": "0d860a22-e354-477b-aa6e-3498c8543e8c",
   "metadata": {},
   "outputs": [
    {
     "data": {
      "text/plain": [
       "6"
      ]
     },
     "execution_count": 6,
     "metadata": {},
     "output_type": "execute_result"
    }
   ],
   "source": [
    "next(l1)"
   ]
  },
  {
   "cell_type": "code",
   "execution_count": 7,
   "id": "0684f02d-cc1d-4f30-9c41-b767617d4f30",
   "metadata": {},
   "outputs": [
    {
     "data": {
      "text/plain": [
       "8"
      ]
     },
     "execution_count": 7,
     "metadata": {},
     "output_type": "execute_result"
    }
   ],
   "source": [
    "next(l1)"
   ]
  },
  {
   "cell_type": "code",
   "execution_count": 8,
   "id": "4a28400b-baea-4f52-9950-04b031fd23b2",
   "metadata": {},
   "outputs": [
    {
     "data": {
      "text/plain": [
       "10"
      ]
     },
     "execution_count": 8,
     "metadata": {},
     "output_type": "execute_result"
    }
   ],
   "source": [
    "next(l1)"
   ]
  },
  {
   "cell_type": "code",
   "execution_count": 1,
   "id": "86bc5c37-c056-4511-abb7-9311779cf9e1",
   "metadata": {},
   "outputs": [
    {
     "name": "stdout",
     "output_type": "stream",
     "text": [
      "Exmaple of generator function\n",
      "0\n",
      "1\n",
      "2\n",
      "3\n",
      "4\n"
     ]
    }
   ],
   "source": [
    "# Q4.  What is a generator function in python? Why yield keyword is used? Give an example of a generator \n",
    "# function.\n",
    "\n",
    "# Ans - Generator function - It is a function in python which is defined like a normal function,\n",
    "#       but whenever it needs to generates an output it does so with the help of yield keyword rather then return or print function.\n",
    "#       If any def function body contains yeild keyword in it becomes a generator function.\n",
    "#\n",
    "#       Yield keyword - It is used to create a generator function. A type of function that is memory efficient and can be used like an iterator object.\n",
    "\n",
    "def generator(num):\n",
    "    print(\"Exmaple of generator function\")\n",
    "    for i in range(num):\n",
    "        yield(i)\n",
    "l=generator(5)\n",
    "for i in l:\n",
    "    print(i)"
   ]
  },
  {
   "cell_type": "code",
   "execution_count": 2,
   "id": "49a29bf6-b7b9-47e7-a9ed-b67bdaf4a092",
   "metadata": {},
   "outputs": [
    {
     "name": "stdout",
     "output_type": "stream",
     "text": [
      "2 3 5 7 11 13 17 19 23 29 31 37 41 43 47 53 59 61 67 71 "
     ]
    }
   ],
   "source": [
    "# Q5. Create a generator function for prime numbers less than 1000. Use the next() method to print the \n",
    "# first 20 prime numbers.\n",
    "\n",
    "# Ans - \n",
    "def prime_num():\n",
    "    for i in range(2,1001):\n",
    "        l=0\n",
    "        for j in range(2,i):\n",
    "            if i%j==0:\n",
    "                l=1\n",
    "                break\n",
    "        if(l==0):\n",
    "            yield(i)          \n",
    "k=prime_num()\n",
    "print(next(k),end=\" \")\n",
    "print(next(k),end=\" \")\n",
    "print(next(k),end=\" \")\n",
    "print(next(k),end=\" \")\n",
    "print(next(k),end=\" \")\n",
    "print(next(k),end=\" \")\n",
    "print(next(k),end=\" \")\n",
    "print(next(k),end=\" \")\n",
    "print(next(k),end=\" \")\n",
    "print(next(k),end=\" \")\n",
    "print(next(k),end=\" \")\n",
    "print(next(k),end=\" \")\n",
    "print(next(k),end=\" \")\n",
    "print(next(k),end=\" \")\n",
    "print(next(k),end=\" \")\n",
    "print(next(k),end=\" \")\n",
    "print(next(k),end=\" \")\n",
    "print(next(k),end=\" \")\n",
    "print(next(k),end=\" \")\n",
    "print(next(k),end=\" \")"
   ]
  },
  {
   "cell_type": "code",
   "execution_count": 3,
   "id": "0a0a82a6-4173-43b6-bda9-e985c5a78a83",
   "metadata": {},
   "outputs": [
    {
     "name": "stdout",
     "output_type": "stream",
     "text": [
      "0 1 1 2 3 5 8 13 21 34 "
     ]
    }
   ],
   "source": [
    "# Q6. Write a python program to print the first 10 Fibonacci numbers using a while loop.\n",
    "\n",
    "# Ans - \n",
    "i=0\n",
    "a=0\n",
    "b=1\n",
    "sum=0\n",
    "print(a, end=\" \")\n",
    "print(b, end= \" \")\n",
    "while i<8:\n",
    "    sum=a+b\n",
    "    a=b\n",
    "    b=sum\n",
    "    print(sum, end=\" \")\n",
    "    i=i+1"
   ]
  },
  {
   "cell_type": "code",
   "execution_count": 10,
   "id": "297047b7-2585-4590-bdc0-820d83b87139",
   "metadata": {},
   "outputs": [
    {
     "name": "stdout",
     "output_type": "stream",
     "text": [
      "['p', 'w', 's', 'k', 'i', 'l', 'l', 's']\n"
     ]
    }
   ],
   "source": [
    "# Q7. Write a List Comprehension to iterate through the given string: ‘pwskills’.\n",
    "# Expected output: ['p', 'w', 's', 'k', 'i', 'l', 'l', 's'] \n",
    "\n",
    "# Ans-\n",
    "list=[i for i in 'pwskills']\n",
    "print(list)"
   ]
  },
  {
   "cell_type": "code",
   "execution_count": 12,
   "id": "8f83ef6b-74d3-4a05-acac-6eade0b9dc4e",
   "metadata": {},
   "outputs": [
    {
     "name": "stdout",
     "output_type": "stream",
     "text": [
      "434 is a palindrome\n"
     ]
    }
   ],
   "source": [
    "# Q8. Write a python program to check whether a given number is Palindrome or not using a while loop.\n",
    "\n",
    "# Ans- \n",
    "num=434\n",
    "bit=0\n",
    "rev=0\n",
    "num3=num\n",
    "while num!=0:\n",
    "    bit=num%10\n",
    "    rev=rev*10+bit\n",
    "    num=num//10\n",
    "if rev==num3:\n",
    "    print(rev,\"is a palindrome\")"
   ]
  },
  {
   "cell_type": "code",
   "execution_count": 11,
   "id": "8cc746fa-f88a-43a3-8652-eecd95263064",
   "metadata": {},
   "outputs": [
    {
     "name": "stdout",
     "output_type": "stream",
     "text": [
      "[1, 3, 5, 7, 9, 11, 13, 15, 17, 19, 21, 23, 25, 27, 29, 31, 33, 35, 37, 39, 41, 43, 45, 47, 49, 51, 53, 55, 57, 59, 61, 63, 65, 67, 69, 71, 73, 75, 77, 79, 81, 83, 85, 87, 89, 91, 93, 95, 97, 99]\n"
     ]
    }
   ],
   "source": [
    "# Q9. Write a code to print odd numbers from 1 to 100 using list comprehension.\n",
    "\n",
    "# Ans - \n",
    "list=[i for i in range(1,101) if i%2!=0]\n",
    "print(list)"
   ]
  }
 ],
 "metadata": {
  "kernelspec": {
   "display_name": "Python 3 (ipykernel)",
   "language": "python",
   "name": "python3"
  },
  "language_info": {
   "codemirror_mode": {
    "name": "ipython",
    "version": 3
   },
   "file_extension": ".py",
   "mimetype": "text/x-python",
   "name": "python",
   "nbconvert_exporter": "python",
   "pygments_lexer": "ipython3",
   "version": "3.10.8"
  }
 },
 "nbformat": 4,
 "nbformat_minor": 5
}
