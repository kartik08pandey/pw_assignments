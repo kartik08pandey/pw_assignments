{
 "cells": [
  {
   "cell_type": "code",
   "execution_count": 2,
   "id": "e7cd8a77-48b7-4c1d-9f5f-307fe41a67da",
   "metadata": {},
   "outputs": [
    {
     "name": "stdout",
     "output_type": "stream",
     "text": [
      "50 60\n"
     ]
    }
   ],
   "source": [
    "# Q1. What is Abstraction in OOps? Explain with an example.\n",
    "\n",
    "# Ans- Abstraction is the feature in OOPs concept where the user\n",
    "#      is kept unaware of the basic implementation of a function property.\n",
    "#      The user is only able to view basic functionallies whereas the \n",
    "#      internal detials are hidden.\n",
    "\n",
    "# Abstraction can be achieved in python using the abstract class \n",
    "\n",
    "# Example-:\n",
    "\n",
    "import abc\n",
    "class result:\n",
    "    \n",
    "    @abc.abstractmethod\n",
    "    def marks_hindi(self,a):\n",
    "        pass\n",
    "    \n",
    "    @abc.abstractmethod\n",
    "    def marks_maths(self,b):\n",
    "        pass\n",
    "    \n",
    "class Class1(result):\n",
    "        \n",
    "    def marks_hindi(self):\n",
    "        self.hh=60\n",
    "    \n",
    "    def marks_maths(self):\n",
    "        self.hm=50\n",
    "        \n",
    "    def show(self):\n",
    "        print(self.hm,self.hh)\n",
    "\n",
    "c= Class1()\n",
    "c.marks_hindi()\n",
    "c.marks_maths()\n",
    "c.show()"
   ]
  },
  {
   "cell_type": "code",
   "execution_count": 8,
   "id": "5a1006bc-4a06-4052-9afe-223e634a1653",
   "metadata": {},
   "outputs": [
    {
     "name": "stdout",
     "output_type": "stream",
     "text": [
      "Example of Abstraction\n",
      "Area = 200\n",
      "Example of Encapsulation\n",
      "Updated protected member of base class:  6\n"
     ]
    }
   ],
   "source": [
    "# Q2. Differentiate between Abstraction and Encapsulation. Explain with an example.\n",
    "\n",
    "# Ans- Abstraction is a fundamental concept in object-oriented programming that helps to \n",
    "#      encapsulate the implementation details of a class from its users. It allows users to \n",
    "#      interact with a class without needing to know how it works internally. \n",
    "#      Whereas Encapsulation is one of the fundamental concepts in object-oriented programming (OOP). \n",
    "#      It describes the idea of wrapping data and the methods that work on data within one unit. \n",
    "#      This puts restrictions on accessing variables and methods directly and can prevent the \n",
    "#      accidental modification of data.\n",
    "\n",
    "# Example of Abstraction\n",
    "\n",
    "import abc\n",
    "class shape:\n",
    "    \n",
    "    @abc.abstractmethod\n",
    "    def area(self):\n",
    "        pass\n",
    "\n",
    "class rectangle(shape):\n",
    "    def __init__(self,l,h):\n",
    "        self.length=l\n",
    "        self.height=h\n",
    "    \n",
    "    def area(self):\n",
    "        print(\"Example of Abstraction\")\n",
    "        return self.length*self.height\n",
    "r=rectangle(10,20)\n",
    "print(\"Area =\",r.area())    \n",
    "\n",
    "\n",
    "# Example of Encapsulation\n",
    "\n",
    "class A:\n",
    "    def __init__(self):\n",
    "        self._a=5\n",
    "        \n",
    "class B(A):\n",
    "    def __init__(self):\n",
    "        self._a=6\n",
    "        print(\"Example of Encapsulation\")\n",
    "        print(\"Updated protected member of base class: \",self._a)\n",
    "b=B()"
   ]
  },
  {
   "cell_type": "code",
   "execution_count": 10,
   "id": "2768279e-2b27-4f90-9547-f0410b1ef995",
   "metadata": {},
   "outputs": [
    {
     "name": "stdout",
     "output_type": "stream",
     "text": [
      "Good Morning\n"
     ]
    }
   ],
   "source": [
    "# Q3. What is abc module in python? Why is it used?\n",
    "\n",
    "# Ans- abc module in python is used for making an abstract class in\n",
    "#      python it is imported first and then is used as abc.abstractmethod\n",
    "#      to make the method abstract.\n",
    "\n",
    "# Example-:\n",
    "    \n",
    "import abc\n",
    "class greet:\n",
    "    \n",
    "    @abc.abstractmethod\n",
    "    def good(self):\n",
    "        pass\n",
    "\n",
    "class greet2:\n",
    "    def good(self):\n",
    "        print(\"Good Morning\")\n",
    "\n",
    "g=greet2()\n",
    "g.good()"
   ]
  },
  {
   "cell_type": "code",
   "execution_count": 11,
   "id": "49693e28-1168-442f-95a2-2f8d643a2836",
   "metadata": {},
   "outputs": [],
   "source": [
    "# Q4. How can we achieve data abstraction?\n",
    "\n",
    "# Ans- Data Abstraction in Python can be achieved through creating \n",
    "#      abstract classes and inheriting them later. An abstract class\n",
    "#      is a class that consists of one or more abstract methods, which\n",
    "#      do not contain their implementation. Abstract classes can be \n",
    "#      inherited by the subclass, and the abstract method gets its \n",
    "#      definition in the subclass. Abstraction in Python can also be \n",
    "#      achieved using classes and header files."
   ]
  },
  {
   "cell_type": "code",
   "execution_count": 12,
   "id": "6efb36ce-9451-47bb-86be-4157ce53e11d",
   "metadata": {},
   "outputs": [],
   "source": [
    "# Q5. Can we create an instance of an abstract class? Explain your answer.\n",
    "\n",
    "# Ans- No, we can't create an instance of an abstract class because. \n",
    "#      If python allows creating an object for abstract classes then\n",
    "#      using that object if anyone calls the abstract method, but \n",
    "#      there is no actual implementation to invoke. So we use an \n",
    "#      abstract class as a template and according to the need, we \n",
    "#      extend it and build on it before we can use it. Due to the \n",
    "#      fact, an abstract class is not a concrete class, it cannot \n",
    "#      be instantiated. When we create an object for the abstract \n",
    "#      class it raises an error.  "
   ]
  }
 ],
 "metadata": {
  "kernelspec": {
   "display_name": "Python 3 (ipykernel)",
   "language": "python",
   "name": "python3"
  },
  "language_info": {
   "codemirror_mode": {
    "name": "ipython",
    "version": 3
   },
   "file_extension": ".py",
   "mimetype": "text/x-python",
   "name": "python",
   "nbconvert_exporter": "python",
   "pygments_lexer": "ipython3",
   "version": "3.10.8"
  }
 },
 "nbformat": 4,
 "nbformat_minor": 5
}
