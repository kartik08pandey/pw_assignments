{
 "cells": [
  {
   "cell_type": "code",
   "execution_count": 2,
   "id": "32e7a98d-ac17-41a2-b25d-2ebb0c8bbd80",
   "metadata": {},
   "outputs": [],
   "source": [
    "# Q1, Create a vehicle class with an init method having instance variables as name_of_vehicle, max_speed\n",
    "# and average_of_vehicle.\n",
    "\n",
    "# ANs-\n",
    "class vehicle:\n",
    "    def __init__(self, name_of_vehicle, max_speed, average_of_vehicle):\n",
    "        self.nov= name_of_vehicle\n",
    "        self.ms= max_speed\n",
    "        self.aov= average_of_vehicle"
   ]
  },
  {
   "cell_type": "code",
   "execution_count": 3,
   "id": "3186a065-49a1-48e6-b9ba-f4d929934c5e",
   "metadata": {},
   "outputs": [],
   "source": [
    "# Q2. Create a child class car from the vehicle class created in Que 1, which will inherit the vehicle class.\n",
    "# Create a method named seating_capacity which takes capacity as an argument and returns the name of\n",
    "# the vehicle and its seating capacity.\n",
    "\n",
    "# Ans- \n",
    "class car(vehicle):\n",
    "    def seating_capacity(self,capacity):\n",
    "        self.cap= capacity\n",
    "        return self.nov, self.cap"
   ]
  },
  {
   "cell_type": "code",
   "execution_count": 4,
   "id": "49b5f783-aabe-491c-ad86-d24d41cab292",
   "metadata": {},
   "outputs": [
    {
     "data": {
      "text/plain": [
       "('mustang', 2)"
      ]
     },
     "execution_count": 4,
     "metadata": {},
     "output_type": "execute_result"
    }
   ],
   "source": [
    "c= car(\"mustang\", 250, 25)\n",
    "c.seating_capacity(2)"
   ]
  },
  {
   "cell_type": "code",
   "execution_count": 3,
   "id": "862928df-6733-4cdd-a46b-366c16efc9de",
   "metadata": {},
   "outputs": [],
   "source": [
    "# Q3. What is multiple inheritance? Write a python code to demonstrate multiple inheritance.\n",
    "\n",
    "#Ans- Multiple inheritance is the type of inheritance in which a class has two parents or we \n",
    "#     can say that a single class is inherited from two other classes as shown below.\n",
    "class maths:\n",
    "    \n",
    "    def marksmaths(self,math):\n",
    "        self.m=math\n",
    "        return self.m\n",
    "    \n",
    "class english:\n",
    "    \n",
    "    def marksenglish(self,eng):\n",
    "        self.e=eng\n",
    "        return self.e\n",
    "\n",
    "class test(maths, english):\n",
    "    \n",
    "    def total(self,eng, math):\n",
    "        mm=maths()\n",
    "        me=english()\n",
    "        self.m1=me.marksenglish(eng)\n",
    "        self.m2=mm.marksmaths(math)\n",
    "        self.totalmarks=self.m1+self.m2\n",
    "    def display(self):\n",
    "        print(self.totalmarks)"
   ]
  },
  {
   "cell_type": "code",
   "execution_count": 2,
   "id": "3506cd71-b1be-4590-b784-2abf89396965",
   "metadata": {},
   "outputs": [
    {
     "name": "stdout",
     "output_type": "stream",
     "text": [
      "110\n"
     ]
    }
   ],
   "source": [
    "t=test()\n",
    "t.total(50,60)\n",
    "t.display()"
   ]
  },
  {
   "cell_type": "code",
   "execution_count": 1,
   "id": "ec2b6de7-8f26-48aa-9d92-09ce0f33e5d1",
   "metadata": {},
   "outputs": [
    {
     "name": "stdout",
     "output_type": "stream",
     "text": [
      "Setter is called\n",
      "Getter is called\n",
      "88\n"
     ]
    }
   ],
   "source": [
    "# Q4. What are getter and setter in python? Create a class and create a getter and a setter method in this\n",
    "# class.\n",
    "\n",
    "# Ans- In Python, getters and setters are not the same as those in other object-oriented programming languages. Basically, the main purpose of using getters and setters in object-oriented programs is to ensure data encapsulation. Private variables in python are not actually hidden fields like in other object oriented languages. Getters and Setters in python are often used when:\n",
    "\n",
    "      # We use getters & setters to add validation logic around getting and setting a value.\n",
    "      # To avoid direct access of a class field i.e. private variables cannot be accessed directly or modified by external user.\n",
    "\n",
    "class car:\n",
    "    \n",
    "    def __init__(self):\n",
    "        self._number=0\n",
    "        \n",
    "    @property\n",
    "    def number(self):\n",
    "        print(\"Getter is called\")\n",
    "        return self._number\n",
    "    @number.setter\n",
    "    def number(self,a):\n",
    "        print(\"Setter is called\")\n",
    "        if(a<99):\n",
    "            self._number=a\n",
    "c= car()\n",
    "c.number = 88\n",
    "print(c.number)"
   ]
  },
  {
   "cell_type": "code",
   "execution_count": 4,
   "id": "290a2cf7-af94-474d-b779-12cd519834bf",
   "metadata": {},
   "outputs": [
    {
     "name": "stdout",
     "output_type": "stream",
     "text": [
      "Vehicle type\n",
      "Car vehicle\n"
     ]
    }
   ],
   "source": [
    "# Q5.What is method overriding in python? Write a python code to demonstrate method overriding.\n",
    "\n",
    "# Ans- Method overriding is an ability of any object-oriented programming language that allows \n",
    "#      a subclass or child class to provide a specific implementation of a method that is already \n",
    "#      provided by one of its super-classes or parent classes.\n",
    "\n",
    "class vehicle:\n",
    "    \n",
    "    def __init__(self):\n",
    "        self.type = \"Vehicle type\"\n",
    "    \n",
    "    def name(self):\n",
    "        print(self.type)\n",
    "class car(vehicle):\n",
    "    \n",
    "    def __init__(self):\n",
    "        self.type = \"Car vehicle\"\n",
    "        \n",
    "    def name(self):\n",
    "        print(self.type)\n",
    "\n",
    "v= vehicle()\n",
    "c= car()\n",
    "\n",
    "v.name()\n",
    "c.name()"
   ]
  }
 ],
 "metadata": {
  "kernelspec": {
   "display_name": "Python 3 (ipykernel)",
   "language": "python",
   "name": "python3"
  },
  "language_info": {
   "codemirror_mode": {
    "name": "ipython",
    "version": 3
   },
   "file_extension": ".py",
   "mimetype": "text/x-python",
   "name": "python",
   "nbconvert_exporter": "python",
   "pygments_lexer": "ipython3",
   "version": "3.10.8"
  }
 },
 "nbformat": 4,
 "nbformat_minor": 5
}
