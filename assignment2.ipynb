{
 "cells": [
  {
   "cell_type": "code",
   "execution_count": 1,
   "id": "1d82a191-9b57-409a-9ba6-caab8307e190",
   "metadata": {},
   "outputs": [
    {
     "data": {
      "text/plain": [
       "'Ans- As you can see I  have used a hash symbol for commenting my code ans this is one of the method in commmenting.\\nThere are 2 types of comments in python-\\n(i) single line comment - It is done by using a hash symbol at the front of the line.\\n(ii) multi line comment (doc string)- it is done using three double inverted commas at the beginning and end of the code.'"
      ]
     },
     "execution_count": 1,
     "metadata": {},
     "output_type": "execute_result"
    }
   ],
   "source": [
    "# Q1. How do you comment code in Python? What are the different types of comments?\n",
    "\"\"\"Ans- As you can see I  have used a hash symbol for commenting my code ans this is one of the method in commmenting.\n",
    "There are 2 types of comments in python-\n",
    "(i) single line comment - It is done by using a hash symbol at the front of the line.\n",
    "(ii) multi line comment (doc string)- it is done using three double inverted commas at the beginning and end of the code.\"\"\"\n"
   ]
  },
  {
   "cell_type": "code",
   "execution_count": 3,
   "id": "63771999-de2e-43a9-8f5b-39687f9ba730",
   "metadata": {},
   "outputs": [],
   "source": [
    "# Q2. What are variables in Python? How do you declare and assign values to variables?\n",
    "# Ans- variables are the containers which hold the data which we assign to them. In python variables can detect the data types by the value which is assigned to the.\n",
    "# we can simply declare ans assign the data as shown below-\n",
    "a=5\n",
    "b=1.2\n",
    "c= True \n",
    "d= 'hello'"
   ]
  },
  {
   "cell_type": "code",
   "execution_count": 7,
   "id": "8b1ba438-f3c5-426a-9714-9b441794c450",
   "metadata": {},
   "outputs": [
    {
     "data": {
      "text/plain": [
       "6.0"
      ]
     },
     "execution_count": 7,
     "metadata": {},
     "output_type": "execute_result"
    }
   ],
   "source": [
    "# Q3. How do you convert one data type to another in Python?\n",
    "# Ans we can convert one data type to another by using type casting.\n",
    "a=6\n",
    "a=float(a)\n",
    "a"
   ]
  },
  {
   "cell_type": "code",
   "execution_count": 8,
   "id": "3de3390b-9a41-45bf-b457-c6fdc9fbdf8e",
   "metadata": {},
   "outputs": [],
   "source": [
    "# Q4. How do you write and execute a Python script from the command line?\n",
    "# For writing and executing the python script from the command line we have to follow following steps-:\n",
    "# step 1- create a python file with .py extension \n",
    "# step 2- write python script in the file.\n",
    "# step 3- open the command promt in the machine.\n",
    "# step 4- write python filename.py \n",
    "# step 5- press enter ans the output will be generated on the screen."
   ]
  },
  {
   "cell_type": "code",
   "execution_count": 10,
   "id": "732ad4eb-4bcb-4b6c-bbf7-bf5f6a84ba06",
   "metadata": {},
   "outputs": [
    {
     "data": {
      "text/plain": [
       "[2, 3]"
      ]
     },
     "execution_count": 10,
     "metadata": {},
     "output_type": "execute_result"
    }
   ],
   "source": [
    "# Q5. Given a list my_list = [1, 2, 3, 4, 5], write the code to slice the list and obtain the sub-list [2, 3].\n",
    "my_list = [1, 2, 3, 4, 5]\n",
    "my_list[1:3]"
   ]
  },
  {
   "cell_type": "code",
   "execution_count": 11,
   "id": "ff355e34-e6d6-44d8-a773-018104620376",
   "metadata": {},
   "outputs": [
    {
     "data": {
      "text/plain": [
       "complex"
      ]
     },
     "execution_count": 11,
     "metadata": {},
     "output_type": "execute_result"
    }
   ],
   "source": [
    "# Q6. What is a complex number in mathematics, and how is it represented in Python?\n",
    "# A number having a real and imaginary part in itself is called a complex number.\n",
    "# it is reprsented in python by following way-\n",
    "a= 1+5j\n",
    "type(a)"
   ]
  },
  {
   "cell_type": "code",
   "execution_count": 12,
   "id": "6bddcaac-2202-4525-9a49-62804ca429e5",
   "metadata": {},
   "outputs": [],
   "source": [
    "# Q7. What is the correct way to declare a variable named age and assign the value 25 to it?\n",
    "age = 25"
   ]
  },
  {
   "cell_type": "code",
   "execution_count": 13,
   "id": "d2188fc2-b352-4e4e-8883-24574064b386",
   "metadata": {},
   "outputs": [
    {
     "data": {
      "text/plain": [
       "float"
      ]
     },
     "execution_count": 13,
     "metadata": {},
     "output_type": "execute_result"
    }
   ],
   "source": [
    "# Q8. Declare a variable named price and assign the value 9.99 to it. What data type does this variable \n",
    "# belong to\n",
    "price= 9.99\n",
    "# it belongs to float data type.\n",
    "type(price)"
   ]
  },
  {
   "cell_type": "code",
   "execution_count": 14,
   "id": "ed7b0f99-1243-47df-b689-d7e270e45ff2",
   "metadata": {},
   "outputs": [
    {
     "name": "stdout",
     "output_type": "stream",
     "text": [
      "Kartik Pandey\n"
     ]
    }
   ],
   "source": [
    "# Q9. Create a variable named name and assign your full name to it as a string. How would you print the \n",
    "# value of this variable?\n",
    "name= 'Kartik Pandey'\n",
    "print(name)"
   ]
  },
  {
   "cell_type": "code",
   "execution_count": 16,
   "id": "651caf56-9a59-4185-bf8c-cf8f32a8b8fd",
   "metadata": {},
   "outputs": [
    {
     "data": {
      "text/plain": [
       "'World'"
      ]
     },
     "execution_count": 16,
     "metadata": {},
     "output_type": "execute_result"
    }
   ],
   "source": [
    "# Q10. Given the string \"Hello, World!\", extract the substring \"World\"\n",
    "s=\"Hello, World!\"\n",
    "s[7:-1]"
   ]
  },
  {
   "cell_type": "code",
   "execution_count": 17,
   "id": "4b608aec-53d1-4961-8404-5d8170d823cf",
   "metadata": {},
   "outputs": [],
   "source": [
    "# Q11. Create a variable named \"is_student\" and assign it a boolean value indicating whether you are \n",
    "# currently a student or not.\n",
    "is_student=True"
   ]
  }
 ],
 "metadata": {
  "kernelspec": {
   "display_name": "Python 3 (ipykernel)",
   "language": "python",
   "name": "python3"
  },
  "language_info": {
   "codemirror_mode": {
    "name": "ipython",
    "version": 3
   },
   "file_extension": ".py",
   "mimetype": "text/x-python",
   "name": "python",
   "nbconvert_exporter": "python",
   "pygments_lexer": "ipython3",
   "version": "3.10.8"
  }
 },
 "nbformat": 4,
 "nbformat_minor": 5
}
