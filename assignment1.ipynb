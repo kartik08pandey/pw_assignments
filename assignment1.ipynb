{
 "cells": [
  {
   "cell_type": "code",
   "execution_count": 6,
   "id": "565af8c0-ab8b-4b86-8a60-68c326e631f3",
   "metadata": {
    "jupyter": {
     "source_hidden": true
    },
    "tags": []
   },
   "outputs": [],
   "source": [
    "#Q1.\n",
    "# (i)String\n",
    "s='kartik'\n",
    "# (ii)list\n",
    "l=[1,2,3,'kartik',[4,5]]\n",
    "# (iii)float\n",
    "f=2.3\n",
    "# (iv)tuple\n",
    "t=(1,2,3,'kartik',[4,5])"
   ]
  },
  {
   "cell_type": "code",
   "execution_count": 9,
   "id": "71aee102-bf26-496f-90fa-f0be864c2a19",
   "metadata": {
    "jupyter": {
     "source_hidden": true
    },
    "tags": []
   },
   "outputs": [
    {
     "data": {
      "text/plain": [
       "str"
      ]
     },
     "execution_count": 9,
     "metadata": {},
     "output_type": "execute_result"
    }
   ],
   "source": [
    "# Q2.\n",
    "# (i)\tvar1 = ‘ ‘\n",
    "# (ii)\tvar2 = ‘[ DS , ML , Python]’\n",
    "# (iii)\tvar3 = [ ‘DS’ , ’ML’ , ‘Python’ ]\n",
    "# (iv)\tvar4 = 1\n",
    "var1 = ' '\n",
    "type(var1)"
   ]
  },
  {
   "cell_type": "code",
   "execution_count": 10,
   "id": "b731919f-c22d-4031-b9c5-a1e412e5155f",
   "metadata": {},
   "outputs": [
    {
     "data": {
      "text/plain": [
       "str"
      ]
     },
     "execution_count": 10,
     "metadata": {},
     "output_type": "execute_result"
    }
   ],
   "source": [
    "var2 = '[ DS , ML , Python]'\n",
    "type(var2)"
   ]
  },
  {
   "cell_type": "code",
   "execution_count": 11,
   "id": "7b47af97-13ba-4bc7-89af-2e2f0003fe30",
   "metadata": {},
   "outputs": [
    {
     "data": {
      "text/plain": [
       "list"
      ]
     },
     "execution_count": 11,
     "metadata": {},
     "output_type": "execute_result"
    }
   ],
   "source": [
    "var3 = [ 'DS' , 'ML' , 'Python' ]\n",
    "type(var3)"
   ]
  },
  {
   "cell_type": "code",
   "execution_count": 12,
   "id": "97fa0c8f-8229-40c4-8c9c-341468904ef8",
   "metadata": {},
   "outputs": [
    {
     "data": {
      "text/plain": [
       "int"
      ]
     },
     "execution_count": 12,
     "metadata": {},
     "output_type": "execute_result"
    }
   ],
   "source": [
    "var4=1\n",
    "type(var4)"
   ]
  },
  {
   "cell_type": "code",
   "execution_count": 14,
   "id": "0f2d831c-77d0-42b0-8341-639fee8ba3e3",
   "metadata": {},
   "outputs": [
    {
     "name": "stdout",
     "output_type": "stream",
     "text": [
      "2.0\n"
     ]
    }
   ],
   "source": [
    "#Q3.\n",
    "#(i) /- it performs basic division and return quotient in output\n",
    "a=8/4\n",
    "print(a)"
   ]
  },
  {
   "cell_type": "code",
   "execution_count": 15,
   "id": "59a0bfae-b3b5-4b35-8d6f-4d266e8a51ef",
   "metadata": {},
   "outputs": [
    {
     "name": "stdout",
     "output_type": "stream",
     "text": [
      "0\n"
     ]
    }
   ],
   "source": [
    "# (ii)\t% - it calculates remainder of 2 numbers\n",
    "a=8%4\n",
    "print(a)"
   ]
  },
  {
   "cell_type": "code",
   "execution_count": 16,
   "id": "97b8808c-b0e4-4c19-b9f2-38a60eabec9d",
   "metadata": {},
   "outputs": [
    {
     "name": "stdout",
     "output_type": "stream",
     "text": [
      "2\n"
     ]
    }
   ],
   "source": [
    "# (iii)\t//- it's used for floor division\n",
    "a=8//4\n",
    "print(a)"
   ]
  },
  {
   "cell_type": "code",
   "execution_count": 17,
   "id": "41de191f-972c-416e-87a0-aeed66a2aa98",
   "metadata": {},
   "outputs": [
    {
     "name": "stdout",
     "output_type": "stream",
     "text": [
      "4096\n"
     ]
    }
   ],
   "source": [
    "# (iv)\t** - it's used to find of power of something\n",
    "a=8**4\n",
    "print(a)"
   ]
  },
  {
   "cell_type": "code",
   "execution_count": 20,
   "id": "afb0d785-cec3-4057-8dfb-851e5634955f",
   "metadata": {},
   "outputs": [
    {
     "name": "stdout",
     "output_type": "stream",
     "text": [
      "1\n",
      "2\n",
      "3\n",
      "apple\n",
      "banana\n",
      "['cars', 'bikes']\n",
      "2.3\n",
      "4.5\n",
      "True\n",
      "False\n"
     ]
    }
   ],
   "source": [
    "# Q4. Create a list of length 10 of your choice containing multiple types of data. Using for loop print the \n",
    "# element and its data type.\n",
    "l1=[1,2,3,'apple', 'banana', ['cars', 'bikes'], 2.3, 4.5, True, False]\n",
    "for i in l1:\n",
    "    print(i)"
   ]
  },
  {
   "cell_type": "code",
   "execution_count": 37,
   "id": "bcd961a9-ea38-4f51-b5ad-f13b0a88dae6",
   "metadata": {},
   "outputs": [
    {
     "name": "stdout",
     "output_type": "stream",
     "text": [
      "verified\n",
      "It can be divisible 2 times\n"
     ]
    }
   ],
   "source": [
    "# Q5. Using a while loop, verify if the number A is purely divisible by number B and if so then how many \n",
    "# times it can be divisible.\n",
    "A=100\n",
    "B=2\n",
    "D=A%B\n",
    "if D==0:\n",
    "    print(\"verified\")\n",
    "count=0\n",
    "while A!=0:\n",
    "    C=A%B\n",
    "    A=A/B\n",
    "    if C==0:\n",
    "        count=count+1\n",
    "print(\"It can be divisible %d times\" % (count))"
   ]
  },
  {
   "cell_type": "code",
   "execution_count": 40,
   "id": "66449c33-423f-4de4-9dc6-d441145f17be",
   "metadata": {},
   "outputs": [
    {
     "name": "stdout",
     "output_type": "stream",
     "text": [
      "3\n",
      "6\n",
      "9\n",
      "12\n",
      "15\n",
      "18\n",
      "21\n",
      "24\n"
     ]
    }
   ],
   "source": [
    "# Q6. Create a list containing 25 int type data. Using for loop and if-else condition print if the element is \n",
    "# divisible by 3 or not\n",
    "l3=[1,2,3,4,5,6,7,8,9,10,11,12,13,14,15,16,17,18,19,20,21,22,23,24,25]\n",
    "for i in l3:\n",
    "    if i%3==0:\n",
    "        print(i)"
   ]
  },
  {
   "cell_type": "code",
   "execution_count": 2,
   "id": "66ff388b-48b7-40f2-a50b-0f3269f4f02e",
   "metadata": {},
   "outputs": [
    {
     "data": {
      "text/plain": [
       "[1, 2, 3, 4, 5, 6, 7]"
      ]
     },
     "execution_count": 2,
     "metadata": {},
     "output_type": "execute_result"
    }
   ],
   "source": [
    "# Q7. What do you understand about mutable and immutable data types? Give examples for both showing \n",
    "# this property.\n",
    "# Mutable data types - these are the data types in which we can perform insertion deletion operations without actually assigning it again.\n",
    "l4=[1,2,3,4,5,6]\n",
    "l4.append(7)\n",
    "l4"
   ]
  },
  {
   "cell_type": "code",
   "execution_count": 3,
   "id": "6f8fc520-d4ba-4816-9384-1dff5064879a",
   "metadata": {},
   "outputs": [
    {
     "ename": "AttributeError",
     "evalue": "'tuple' object has no attribute 'append'",
     "output_type": "error",
     "traceback": [
      "\u001b[0;31m---------------------------------------------------------------------------\u001b[0m",
      "\u001b[0;31mAttributeError\u001b[0m                            Traceback (most recent call last)",
      "Cell \u001b[0;32mIn[3], line 3\u001b[0m\n\u001b[1;32m      1\u001b[0m \u001b[38;5;66;03m# Immutable data tupes - These are the data types which cant be muted with insertion and deletion operations and can accutually be changed by the reassigning the values.\u001b[39;00m\n\u001b[1;32m      2\u001b[0m t2\u001b[38;5;241m=\u001b[39m(\u001b[38;5;241m1\u001b[39m,\u001b[38;5;241m2\u001b[39m,\u001b[38;5;241m3\u001b[39m,\u001b[38;5;241m4\u001b[39m,\u001b[38;5;241m5\u001b[39m,\u001b[38;5;241m6\u001b[39m)\n\u001b[0;32m----> 3\u001b[0m \u001b[43mt2\u001b[49m\u001b[38;5;241;43m.\u001b[39;49m\u001b[43mappend\u001b[49m(\u001b[38;5;241m7\u001b[39m)\n\u001b[1;32m      4\u001b[0m t2\n",
      "\u001b[0;31mAttributeError\u001b[0m: 'tuple' object has no attribute 'append'"
     ]
    }
   ],
   "source": [
    "# Immutable data tupes - These are the data types which cant be muted with insertion and deletion operations and can accutually be changed by the reassigning the values.\n",
    "t2=(1,2,3,4,5,6)\n",
    "t2.append(7)\n",
    "t2\n",
    "# since this will give the error and it shows that tupples are "
   ]
  }
 ],
 "metadata": {
  "kernelspec": {
   "display_name": "Python 3 (ipykernel)",
   "language": "python",
   "name": "python3"
  },
  "language_info": {
   "codemirror_mode": {
    "name": "ipython",
    "version": 3
   },
   "file_extension": ".py",
   "mimetype": "text/x-python",
   "name": "python",
   "nbconvert_exporter": "python",
   "pygments_lexer": "ipython3",
   "version": "3.10.8"
  }
 },
 "nbformat": 4,
 "nbformat_minor": 5
}
